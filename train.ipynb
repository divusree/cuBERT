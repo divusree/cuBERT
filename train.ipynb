{
 "cells": [
  {
   "cell_type": "code",
   "execution_count": null,
   "metadata": {},
   "outputs": [],
   "source": [
    "%load_ext autoreload\n",
    "%autoreload 2"
   ]
  },
  {
   "cell_type": "code",
   "execution_count": null,
   "metadata": {},
   "outputs": [],
   "source": [
    "import os\n",
    "\n",
    "os.environ['CUDA_LAUNCH_BLOCKING']=\"1\"\n",
    "os.environ['TORCH_USE_CUDA_DSA'] = \"1\"\n",
    "\n",
    "from BERT import BERTForNER, ModelArgs, compute_loss, evaluate\n",
    "from BERTdataloader import BERTDataLoader\n",
    "import torch\n",
    "from transformers import AutoTokenizer\n",
    "from datasets import load_dataset\n",
    "\n",
    "from tqdm import tqdm\n",
    "from torch.utils.tensorboard import SummaryWriter\n",
    "writer = SummaryWriter(f\"runs/bert_ner_experiment_1\")\n"
   ]
  },
  {
   "cell_type": "code",
   "execution_count": null,
   "metadata": {},
   "outputs": [],
   "source": [
    "tokenizer = AutoTokenizer.from_pretrained(\"bert-base-uncased\")\n",
    "ds = load_dataset(\"conll2003\")\n"
   ]
  },
  {
   "cell_type": "code",
   "execution_count": null,
   "metadata": {},
   "outputs": [],
   "source": [
    "loader = BERTDataLoader(tokenizer, ds)\n",
    "\n",
    "train_loader = loader.get_dataloader('train')\n",
    "\n",
    "validation_loader = loader.get_dataloader('validation')\n",
    "\n",
    "num_ner_labels = loader.num_ner_labels\n",
    "\n",
    "label_list = loader.label_list\n"
   ]
  },
  {
   "cell_type": "code",
   "execution_count": null,
   "metadata": {},
   "outputs": [],
   "source": [
    "from torch.nn.utils import clip_grad_norm_\n",
    "from torch.optim.lr_scheduler import (\n",
    "    CosineAnnealingLR,\n",
    "    LinearLR,\n",
    "    SequentialLR\n",
    ")\n",
    "\n",
    "batch_size = 8                  # Physical batch size  \n",
    "grad_accum_steps = 2          # Accumulate gradients over 2 steps\n",
    "effective_batch_size = batch_size * grad_accum_steps  # Simulated batch size\n",
    "device = \"cuda\"\n",
    "args = ModelArgs(dim=768, n_heads=8, n_layers = 8, device = device, max_batch_size = 8, vocab_size = tokenizer.vocab_size)\n",
    "# args = ModelArgs(dim=1024, n_heads=16, n_layers = 24, device = device, max_batch_size = 8, vocab_size = tokenizer.vocab_size)\n",
    "model = BERTForNER(args, num_ner_labels=num_ner_labels).to(device)\n",
    "\n",
    "epochs = 6\n",
    "\n",
    "optimizer = torch.optim.AdamW(model.parameters(),  lr=5e-5, weight_decay=0.01)\n",
    "criterion = torch.nn.CrossEntropyLoss(ignore_index=-100)  # -100 = ignore padding tokens\n",
    "\n",
    "total_steps = len(train_loader) * epochs\n",
    "warmup_steps = int(0.01 * total_steps)  # 1% warmup (shorter than fine-tuning)\n",
    "\n",
    "# Short linear warmup\n",
    "warmup = LinearLR(\n",
    "    optimizer,\n",
    "    start_factor=0.01,  # Start at 1% of max LR  \n",
    "    end_factor=1.0,\n",
    "    total_iters=warmup_steps\n",
    ")\n",
    "\n",
    "# Long cosine decay\n",
    "cosine = CosineAnnealingLR(\n",
    "    optimizer,\n",
    "    T_max=total_steps - warmup_steps,  # Decay over remaining steps\n",
    "    eta_min=1e-5                       # Min LR = 1e-5 (higher than fine-tuning)\n",
    ")\n",
    "\n",
    "# Combine them\n",
    "scheduler = SequentialLR(\n",
    "    optimizer,\n",
    "    schedulers=[warmup, cosine],\n",
    "    milestones=[warmup_steps]  # Switch to cosine after warmup\n",
    ")\n"
   ]
  },
  {
   "cell_type": "code",
   "execution_count": null,
   "metadata": {},
   "outputs": [],
   "source": [
    "for epoch in range(epochs):\n",
    "    model.train()\n",
    "    optimizer.zero_grad()   \n",
    "    epoch_loss = 0\n",
    "    total_steps = 0\n",
    "    \n",
    "    progress_bar = tqdm(\n",
    "        enumerate(train_loader), \n",
    "        total=len(train_loader),\n",
    "        desc=f\"Epoch {epoch + 1}/{epochs}\",\n",
    "        leave=True\n",
    "    )\n",
    "\n",
    "    for step, batch_load in progress_bar:\n",
    "        batch_load = batch_load.to(device)\n",
    "        batch = {k: v.to(device) for k, v in batch_load.items()}\n",
    "        outputs = model(\n",
    "            batch[\"input_ids\"].to(device),\n",
    "            attn_mask=batch[\"attention_mask\"].to(device)\n",
    "        )\n",
    "        labels = batch[\"labels\"].to(device)\n",
    "        loss = criterion(outputs.view(-1, outputs.shape[-1]), labels.view(-1))\n",
    "        loss = loss / grad_accum_steps \n",
    "        loss.backward()\n",
    "        \n",
    "        epoch_loss += loss.item() * grad_accum_steps  \n",
    "        total_steps += 1\n",
    "        \n",
    "        if (step + 1) % grad_accum_steps == 0 or (step + 1) == len(train_loader):\n",
    "            clip_grad_norm_(model.parameters(), max_norm=1.0)\n",
    "            optimizer.step()\n",
    "            scheduler.step()\n",
    "            optimizer.zero_grad()\n",
    "            progress_bar.set_postfix({\n",
    "                \"loss\": f\"{epoch_loss / total_steps:.4f}\",\n",
    "                \"lr\": optimizer.param_groups[0][\"lr\"]\n",
    "            })\n",
    "            writer.add_scalar(\n",
    "                \"LR\", \n",
    "                optimizer.param_groups[0][\"lr\"], \n",
    "                global_step=step // grad_accum_steps\n",
    "            )\n",
    "        writer.add_scalar(\"Loss/train\", loss.item() * grad_accum_steps, global_step=epoch * len(train_loader) + step)\n",
    "    \n",
    "    print(f\"Epoch {epoch + 1} Training Loss: {epoch_loss / len(train_loader):.4f}\")\n",
    "    \n",
    "    # Validation\n",
    "    validation_metrics = evaluate(\n",
    "                    model=model,\n",
    "                    validation_loader=validation_loader,\n",
    "                    criterion=criterion,\n",
    "                    label_list=label_list,  \n",
    "                    device=device,\n",
    "                    writer = writer,\n",
    "                    global_step = epoch,\n",
    "                )\n",
    "    print(\"*\" * 30)\n",
    "    "
   ]
  },
  {
   "cell_type": "code",
   "execution_count": null,
   "metadata": {},
   "outputs": [],
   "source": [
    "torch.save(model.state_dict(), 'final.pt')"
   ]
  },
  {
   "cell_type": "code",
   "execution_count": null,
   "metadata": {},
   "outputs": [],
   "source": []
  }
 ],
 "metadata": {
  "kernelspec": {
   "display_name": "triton_trials",
   "language": "python",
   "name": "python3"
  },
  "language_info": {
   "codemirror_mode": {
    "name": "ipython",
    "version": 3
   },
   "file_extension": ".py",
   "mimetype": "text/x-python",
   "name": "python",
   "nbconvert_exporter": "python",
   "pygments_lexer": "ipython3",
   "version": "3.10.12"
  }
 },
 "nbformat": 4,
 "nbformat_minor": 2
}
